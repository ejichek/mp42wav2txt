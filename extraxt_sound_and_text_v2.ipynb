{
 "cells": [
  {
   "cell_type": "code",
   "execution_count": 1,
   "id": "90162a2d",
   "metadata": {},
   "outputs": [],
   "source": [
    "# извлекает аудио из видео\n",
    "from moviepy.editor import *  \n",
    "\n",
    "# извлекает текст из аудио (нужен интернет)\n",
    "import speech_recognition as sr\n",
    "\n",
    "# нарезает аудио-файл но отрезки по 2 минуты\n",
    "from pydub import AudioSegment\n",
    "\n",
    "# прочие либы\n",
    "import os\n",
    "from pathlib import Path\n",
    "import datetime\n",
    "import shutil"
   ]
  },
  {
   "cell_type": "code",
   "execution_count": 2,
   "id": "6141d5b2",
   "metadata": {},
   "outputs": [],
   "source": [
    "# функция конвертирует mp4 в wav\n",
    "# и хавает только mp4 файлы\n",
    "\n",
    "def video2wav(directory_video=str, directory_audio=str, video_file_name=str):\n",
    "    print(\"Извлекаем аудиодорожку: \" + video_file_name)\n",
    "    audio = AudioFileClip(directory_video + \"/\" + video_file_name)\n",
    "    audio_file_name = video_file_name.replace('.mp4','') + \".wav\"\n",
    "    audio.write_audiofile(directory_audio + \"/\" + audio_file_name)\n",
    "    print(\"Конвертация видео файла закончена!\")\n",
    "    return(audio_file_name)"
   ]
  },
  {
   "cell_type": "code",
   "execution_count": 37,
   "id": "a34b3fa1",
   "metadata": {},
   "outputs": [],
   "source": [
    "def start_duration_array(filename_s_d_a=str, inputdir_s_d_a=str):\n",
    "    audio_seg = AudioSegment.from_wav(inputdir_s_d_a + '//' + filename_s_d_a)\n",
    "    total_in_ms = len(audio_seg)  # длинна видео в милисек\n",
    "    \n",
    "    a = total_in_ms // 120000     # узнаем значение целочисленного деления, для ... \n",
    "    b = 120000 * a                # узнаем значение для выхода из цикла\n",
    "    c = total_in_ms - b           # узнаем значение последнего слогаемого\n",
    "\n",
    "    s_num = 0\n",
    "    d_num = 120000\n",
    "    start_array = [0]           # начальное значение стартового масива\n",
    "    duration_array = [120000]   # начальное значение другого стартового масива\n",
    "    \n",
    "    if total_in_ms > 120000:\n",
    "        for i in range(a):\n",
    "            if (b) not in duration_array:  \n",
    "                s_num = s_num + 120000\n",
    "                d_num = d_num + 120000\n",
    "                start_array.append(s_num)\n",
    "                duration_array.append(d_num)\n",
    "            else:\n",
    "                s_num = s_num + 120000\n",
    "                d_num = d_num + c\n",
    "                start_array.append(s_num)\n",
    "                duration_array.append(d_num)      \n",
    "        dict_start_duration = {'start_array':start_array, 'duration_array':duration_array}\n",
    "        #print(dict_start_duration)\n",
    "    else: dict_start_duration = {'start_array':start_array, 'duration_array':duration_array}\n",
    "        \n",
    "    return(dict_start_duration)"
   ]
  },
  {
   "cell_type": "code",
   "execution_count": 9,
   "id": "89b6790f",
   "metadata": {},
   "outputs": [],
   "source": [
    "def create_tmp_aud_files(filename=str, inputdir=str, outputdir=str):\n",
    "    \n",
    "    path_tmp_dir = outputdir + '//' + 'wav_' + filename.replace('.wav','')  \n",
    "    Path(path_tmp_dir).mkdir(parents=True, exist_ok=True)\n",
    "\n",
    "    myaudio = AudioSegment.from_file(inputdir+\"/\"+filename, \"wav\") \n",
    "\n",
    "    dict_tmp = start_duration_array(filename_s_d_a=filename, inputdir_s_d_a=inputdir)\n",
    "    \n",
    "    for i in range(len(dict_tmp['start_array'])):\n",
    "        chunk_data = myaudio[dict_tmp['start_array'][i]:dict_tmp['duration_array'][i]]\n",
    "        chunk_data.export(path_tmp_dir+'/'+str(i)+'_chunk_' + filename, format=\"wav\")\n",
    "    return(path_tmp_dir)"
   ]
  },
  {
   "cell_type": "code",
   "execution_count": 27,
   "id": "2eebe71c",
   "metadata": {
    "scrolled": true
   },
   "outputs": [],
   "source": [
    "def wav2txt(tmp_directory_audio=str, tmp_text_path=str, clear_name=str):\n",
    "    r = sr.Recognizer ()   \n",
    "    \n",
    "    # все имена файлов папки сохраняем в список\n",
    "    _list_name_files = os.listdir(tmp_directory_audio)\n",
    "\n",
    "    # выводим список имен файлов\n",
    "    print('\\n'.join(_list_name_files))\n",
    "\n",
    "    for _name_file in _list_name_files:\n",
    "        #print(type(_name_file))\n",
    "        #print(_name_file)\n",
    "        \n",
    "        name_txt = _name_file.replace(\"wav\", \"txt\")\n",
    "        #print(name_txt)\n",
    "        \n",
    "        print(\"Конвертируем в txt файл: \\n\" + _name_file)\n",
    "\n",
    "        # извлекаем аудиодорожку\n",
    "        audio_file = sr.AudioFile(tmp_directory_audio + \"/\" + _name_file)\n",
    "        with audio_file as source:\n",
    "            r.adjust_for_ambient_noise(source) #, duration=0.5) # duration по умолчанию 1 - параметр регулирует шумоподавление\n",
    "            audio = r.record(source)\n",
    "\n",
    "        text = r.recognize_google(audio, language = 'ru-RU') \n",
    "        \n",
    "        path_tmp_dir = tmp_text_path + '//' + 'txt_' + clear_name\n",
    "        #print(path_tmp_dir)\n",
    "        Path(path_tmp_dir).mkdir(parents=True, exist_ok=True)\n",
    "        \n",
    "        with open(path_tmp_dir + '//' + name_txt , \"w\") as f:\n",
    "            f.write(text)\n",
    "        print('!!!Конвертирован: ' + path_tmp_dir + '//' + name_txt)\n",
    "        \n",
    "    return(path_tmp_dir)"
   ]
  },
  {
   "cell_type": "code",
   "execution_count": 14,
   "id": "cb73084f",
   "metadata": {},
   "outputs": [],
   "source": [
    "def txt_combiner(tmp_text_path=str, directory_txt_combine_txt=str):\n",
    "    text_big = 'start_vidio_text:' + '\\n'\n",
    "    sum_time = datetime.timedelta(seconds=0)\n",
    "    _list_name_files = os.listdir(tmp_text_path)\n",
    "    #print('\\n'.join(_list_name_files))\n",
    "    \n",
    "    for _name_file in _list_name_files: \n",
    "        with open(tmp_text_path + '//' + _name_file , \"r\") as f:\n",
    "            text = f.read()\n",
    "            text_big = text_big + str(sum_time) + '\\n' + text + '\\n'\n",
    "            sum_time = sum_time + datetime.timedelta(seconds=120)\n",
    "            \n",
    "    with open(directory_txt_combine_txt + '//' +'test.txt', \"w\") as f2:\n",
    "        f2.write(text_big)   \n",
    "    print('FINISH')"
   ]
  },
  {
   "cell_type": "code",
   "execution_count": 36,
   "id": "dd6b802a",
   "metadata": {},
   "outputs": [],
   "source": [
    "def clear_tmp_dir(tmp_folder=str):\n",
    "    _list_name_files = os.listdir(tmp_folder)\n",
    "    for _name_file in _list_name_files:    \n",
    "        shutil.rmtree(tmp_folder + '//' + _name_file)\n",
    "    print('Всременная папка _tmp - очищена')"
   ]
  },
  {
   "cell_type": "code",
   "execution_count": 38,
   "id": "83ed4d0f",
   "metadata": {},
   "outputs": [
    {
     "name": "stdout",
     "output_type": "stream",
     "text": [
      "Извлекаем аудиодорожку: interview_test.mp4\n",
      "MoviePy - Writing audio in D://4py//communize_content//audio/interview_test.wav\n"
     ]
    },
    {
     "name": "stderr",
     "output_type": "stream",
     "text": [
      "                                                                                                                       \r"
     ]
    },
    {
     "name": "stdout",
     "output_type": "stream",
     "text": [
      "MoviePy - Done.\n",
      "Конвертация видео файла закончена!\n",
      "0_chunk_interview_test.wav\n",
      "Конвертируем в txt файл: \n",
      "0_chunk_interview_test.wav\n",
      "!!!Конвертирован: D://4py//communize_content//_tmp//txt_interview_test//0_chunk_interview_test.txt\n",
      "D://4py//communize_content//_tmp//txt_interview_test\n",
      "FINISH\n",
      "Всременная папка _tmp - очищена\n"
     ]
    }
   ],
   "source": [
    "def main_func(video_file_name=str, tmp_dir_main=str, video_dir_main=str, audio_dir_main=str, txt_dir_main=str):\n",
    "    \n",
    "    clear_name_main = video_file_name.replace('.mp4','')\n",
    "\n",
    "    # конвертируем .mp4 в .wav\n",
    "    audio_file_name_main = video2wav(directory_video=video_dir_main, directory_audio=audio_dir_main, video_file_name=video_file_name)\n",
    "    #print(audio_file_name)\n",
    "    \n",
    "    # \"Нарезаем\" аудио файл на отрезки по 120 секунд во временную папку\n",
    "    tmp_aud_dir_path = create_tmp_aud_files(filename=audio_file_name_main, inputdir=audio_dir_main, outputdir=tmp_dir_main)\n",
    "    #print(tmp_aud_dir)\n",
    "    \n",
    "    # конвертирует .wav в временные .txt\n",
    "    tmp_txt_dir = wav2txt(tmp_directory_audio=tmp_aud_dir_path, tmp_text_path=tmp_dir_main, clear_name=clear_name_main)\n",
    "    print(tmp_txt_dir)\n",
    "    \n",
    "    # собирает все временные txt и сохранет все один большой txt\n",
    "    txt_combiner(tmp_text_path=tmp_txt_dir, directory_txt_combine_txt=txt_dir_main)\n",
    "    \n",
    "    clear_tmp_dir(tmp_folder=tmp_dir_main)\n",
    "    \n",
    "if __name__ == '__main__':\n",
    "    main_func(video_file_name='interview_test.mp4',\n",
    "              tmp_dir_main='D://4py//communize_content//_tmp',\n",
    "              video_dir_main='D://4py//communize_content//video',\n",
    "              audio_dir_main='D://4py//communize_content//audio',\n",
    "              txt_dir_main='D://4py//communize_content//txt')"
   ]
  }
 ],
 "metadata": {
  "kernelspec": {
   "display_name": "Python 3 (ipykernel)",
   "language": "python",
   "name": "python3"
  },
  "language_info": {
   "codemirror_mode": {
    "name": "ipython",
    "version": 3
   },
   "file_extension": ".py",
   "mimetype": "text/x-python",
   "name": "python",
   "nbconvert_exporter": "python",
   "pygments_lexer": "ipython3",
   "version": "3.9.13"
  }
 },
 "nbformat": 4,
 "nbformat_minor": 5
}
